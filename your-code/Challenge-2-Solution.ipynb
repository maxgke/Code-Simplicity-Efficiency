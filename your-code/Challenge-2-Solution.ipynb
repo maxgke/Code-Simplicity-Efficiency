{
 "cells": [
  {
   "cell_type": "code",
   "execution_count": 51,
   "metadata": {},
   "outputs": [
    {
     "name": "stdin",
     "output_type": "stream",
     "text": [
      "Enter minimum string length:  2\n",
      "Enter maximum string length:  5\n",
      "How many random strings to generate?  5\n"
     ]
    },
    {
     "name": "stdout",
     "output_type": "stream",
     "text": [
      "['98', '9t', 'uw5', '6hv', 'czs']\n",
      "--- 0.0005738735198974609 seconds ---\n"
     ]
    }
   ],
   "source": [
    "\"\"\"\n",
    "The code below generates a given number of random strings that consists of numbers and \n",
    "lower case English letters. You can also define the range of the variable lengths of\n",
    "the strings being generated.\n",
    "\n",
    "The code is functional but has a lot of room for improvement. Use what you have learned\n",
    "about simple and efficient code, refactor the code.\n",
    "\"\"\"\n",
    "import time\n",
    "def RandomStringGenerator(l=12, a=['a','b','c','d','e','f','g','h','i','j','k','l','m','n','o','p','q','r','s','t','u','v','w','x','y','z','0','1','2','3','4','5','6','7','8','9']):\n",
    "    p = 0\n",
    "    s = ''\n",
    "    while p<l:\n",
    "        import random\n",
    "        s += random.choice(a)\n",
    "        p += 1\n",
    "    return s\n",
    "\n",
    "def BatchStringGenerator(n, a=8, b=12):\n",
    "    r = []\n",
    "    for i in range(n):\n",
    "        c = None\n",
    "        if a < b:\n",
    "            import random\n",
    "            c = random.choice(range(a, b))\n",
    "        elif a == b:\n",
    "            c = a\n",
    "        else:\n",
    "            import sys\n",
    "            sys.exit('Incorrect min and max string lengths. Try again.')\n",
    "        r.append(RandomStringGenerator(c))\n",
    "    return r\n",
    "\n",
    "a = input('Enter minimum string length: ')\n",
    "b = input('Enter maximum string length: ')\n",
    "n = input('How many random strings to generate? ')\n",
    "\n",
    "start_time = time.time()\n",
    "print(BatchStringGenerator(int(n), int(a), int(b)))\n",
    "print(\"--- %s seconds ---\" % (time.time() - start_time))"
   ]
  },
  {
   "cell_type": "code",
   "execution_count": 53,
   "metadata": {},
   "outputs": [
    {
     "name": "stdin",
     "output_type": "stream",
     "text": [
      "Enter minimum string length:  2\n",
      "Enter maximum string length:  5\n",
      "How many random strings to generate?  5\n"
     ]
    },
    {
     "name": "stdout",
     "output_type": "stream",
     "text": [
      "['TI', 'ryM', 'szB18', 'CajnP', 'n6']\n",
      "--- 0.0002357959747314453 seconds ---\n"
     ]
    }
   ],
   "source": [
    "import random\n",
    "import sys\n",
    "import string\n",
    "import time\n",
    "\n",
    "#Generate a random string\n",
    "def id_generator(size=6, chars=string.ascii_letters + string.digits):\n",
    "    return ''.join(random.choice(chars) for _ in range(size))\n",
    "\n",
    "#Generate a batch with random strings\n",
    "def batchgenerator(nr_strings, lower_bound, upper_bound):\n",
    "    return [id_generator(random.randint(lower_bound, upper_bound)) for i in range(nr_strings)]\n",
    "\n",
    "lower_bound = input('Enter minimum string length: ')\n",
    "upper_bound = input('Enter maximum string length: ')\n",
    "nr_strings = input('How many random strings to generate? ')\n",
    "\n",
    "start_time = time.time()\n",
    "print(batchgenerator(int(nr_strings), int(lower_bound), int(upper_bound)))\n",
    "print(\"--- %s seconds ---\" % (time.time() - start_time))"
   ]
  }
 ],
 "metadata": {
  "kernelspec": {
   "display_name": "Python 3",
   "language": "python",
   "name": "python3"
  },
  "language_info": {
   "codemirror_mode": {
    "name": "ipython",
    "version": 3
   },
   "file_extension": ".py",
   "mimetype": "text/x-python",
   "name": "python",
   "nbconvert_exporter": "python",
   "pygments_lexer": "ipython3",
   "version": "3.8.3"
  }
 },
 "nbformat": 4,
 "nbformat_minor": 4
}
