{
 "cells": [
  {
   "cell_type": "markdown",
   "metadata": {},
   "source": [
    "## LESSON GOALS\n",
    "Learn about the basic principles of writing simple and clean code.\n",
    "\n",
    "Understand the basic tips provided in this lesson on how to write efficient Python code.\n",
    "\n",
    "Start developing your awareness and habit of writing simple, clean, and efficient code.\n",
    "\n",
    "## INTRODUCTION\n",
    "Programming is an essential skill for data analysts, data scientists, and especially data engineers. Although you are not a software engineer, writing good code is important for you because your colleagues will read your code and machines will execute your code. Your work is not worthy if no one can understand your code or the machine will break on your code.\n",
    "\n",
    "Then what code is good code? There are many criteria to judge the quality of the code but the bottom line is it needs to be simple and efficient.\n",
    "\n",
    "## SIMPLE AND CLEAN CODE\n",
    "### Why\n",
    "Writing simple code allows you to be more productive and prevents your code from running into unnecessary errors. It also makes your code more readable, easier to be debugged, and easier to be updated. In product development, it's common sense that one should focus on a limited set of features and make each feature as efficient and usable as possible. Because the more features one attempts to achieve, the less effort will be put into improving each feature. In programming, it's the same as in product development.\n",
    "\n",
    "Programming has a human/social dimension. At the end of the day the machine is not the only consumer of your code. Your colleagues will read your code because coding is often team work. Your mentor/supervisor will read your code because they need to evaluate your work. You yourself will read your own code because you need to debug errors. If you are in the open-source community there will also be strangers reading your code because they need to build their codes on top of yours. The simplicity of code allows it to be easily understood by human programmers.\n",
    "\n",
    "### Code Simplicity\n",
    "In order to write simple codes, you need to develop design thinking. There is a famous saying that everybody who writes software is a designer. You write codes to solve problems and to help people. What are the key issues to solve? What are the possible solutions? What is the right solution to use? These are the questions you need to ask yourself and it requires design skills to find the solution that works best. You will make autonomous decisions and you will need to put all your existing knowledge and all your past experience on the table to help you make the right decisions. You will also need to think from the shoes of your users to make sure your solution will indeed help them.\n",
    "\n",
    "The \"keep it simple, stupid\" (KISS) principle states that your code should not attempt to achieve unnecessary, \"smart\" features. The more complicated your code is, the more error-prone and less maintainable it becomes. When you write a function to parse JSON data, for example, let it focus on parsing and nothing else. Don't introduce other functionalities in the same function such as removing special characters, converting letter cases, etc. If you really need to achieve extra goals, write additional functions.\n",
    "\n",
    "The KISS principle is related to the \"You Aren't Gonna Need It\" (YAGNI) and the Lean Software Developoment . These principles state that you shouldn't add features to your code unless you absolutely know they are needed. Taking the parsing JSON data example again, you shouldn't even write the functions to remove special characters or converting letter cases unless you have proof that it will be problematic if your code doesn't do that. Sometimes your data sources have already removed special characters so you don't need to do it in your code. Sometimes letter cases don't matter in the analysis. So try to finish writing the code as quickly as you can by achieving the minimal set of features. Then you come back to test your code with real data. If you find evidence that the features missing are causing probloms, you can then add those features.\n",
    "\n",
    "Also, an easy way does not necessarily mean a good way. For instance, you have written a piece of code to parse JSON and you find you just need to modify a few lines to make your code work for parsing other data formats such as XML and RSS. So you copy and paste the same piece of code several times and modify them in order to handle XML and RSS. BAD PRACTICE! You are breaking the coding principle called \"don't repeat yourself\" (DRY) . Copy-n-pasting is indeed easy for you to get things done. However, when people read your code it'll be a big waste of time. When you want to fix an error in your code you will also need to make the fix multiple times. The right approach here is to write a function with variables so that you can reuse the same piece of code for XML and RSS.\n",
    "\n",
    "### Clean Code\n",
    "Clean code has a lot to overlap with simple code. It means you should keep your code as concise, readable, and maintainable as possible. If you can achieve your goal with one line of code, don't make it two lines. You should avoid making your code messy or cumbersome which the DRY principle previously mentioned can be of great help. You should also design your code with maintainable structure so that it can continue evolving as you build up your project.\n",
    "\n",
    "The readability of your code means your code should be self-explanatory about what it does. Some techniques to achieve good readability include:\n",
    "\n",
    "Organizing your files. For example, if you have many files in your project you should create folders to hold different types of them such as spreadsheets, textual files, images, etc. Don't put all the files in one level as in a large project it'll be super difficult to find the files you want.\n",
    "\n",
    "Structuring your code. For example, place library imports at the beginning, define global variables next, then define functions, then write the rest of the code. Similarly, in a function, define the local variables first then write the code.\n",
    "\n",
    "Respect coding conventions (e.g. Style Guide for Python Code). Most importantly, follow naming conventions. For instance, in Python the following are the basic naming conventions:\n",
    "\n",
    "Use CapWords to declare class names.\n",
    "Use words_connected_by_underscores to declare variables and functions.\n",
    "Use CAPITAL_LETTERS to declare constants.\n",
    "Use descriptive names for all declarations. Examples: parse_json is better than my_function as a function name because it is self-explanatory on what this function does. And raw_data is better than d as a variable name because it clearly indicates what this variable is.\n",
    "\n",
    "### CODE EFFICIENCY\n",
    "Code efficiency is another dimension of your code that you will be increasingly concerned about as your role becomes more senior. In addition to making your code readable by humans your code should also be efficient to be executed on machines. Often times there are multiple ways to achieve the same goal and you should find out the way that gives your code the best performance. Improving your code efficiency requires fundamental knowledge about how the programming language is executed on machines and it's lifelong learning because new technologies and practices are constantly being improved/invented. In this course you won't need to worry too much about your code efficiency but it's great that you keep it in mind while you grow.\n",
    "\n",
    "In the context of this course, Python and SQL are where you can start developing your awareness for code efficiency. Below we provide some basic tips for you on how to write more effient code."
   ]
  },
  {
   "cell_type": "code",
   "execution_count": 149,
   "metadata": {},
   "outputs": [
    {
     "name": "stdout",
     "output_type": "stream",
     "text": [
      "--- 5.507469177246094e-05 seconds ---\n"
     ]
    }
   ],
   "source": [
    "import time\n",
    "start_time = time.time()\n",
    "\n",
    "\n",
    "print(\"--- %s seconds ---\" % (time.time() - start_time))"
   ]
  },
  {
   "cell_type": "code",
   "execution_count": 150,
   "metadata": {},
   "outputs": [],
   "source": [
    "hugetext = \"Code efficiency is another dimension of your code that you will be increasingly concerned about as your role becomes more senior. In addition to making your code readable by humans your code should also be efficient to be executed on machines. Often times there are multiple ways to achieve the same goal and you should find out the way that gives your code the best performance. Improving your code efficiency requires fundamental knowledge about how the programming language is executed on machines and it's lifelong learning because new technologies and practices are constantly being improved/invented. In this course you won't need to worry too much about your code efficiency but\""
   ]
  },
  {
   "cell_type": "code",
   "execution_count": 151,
   "metadata": {},
   "outputs": [
    {
     "name": "stdout",
     "output_type": "stream",
     "text": [
      "['Code', 'efficiency', 'is', 'another', 'dimension', 'of', 'your', 'code', 'that', 'you', 'will', 'be', 'increasingly', 'concerned', 'about', 'as', 'your', 'role', 'becomes', 'more', 'senior.', 'In', 'addition', 'to', 'making', 'your', 'code', 'readable', 'by', 'humans', 'your', 'code', 'should', 'also', 'be', 'efficient', 'to', 'be', 'executed', 'on', 'machines.', 'Often', 'times', 'there', 'are', 'multiple', 'ways', 'to', 'achieve', 'the', 'same', 'goal', 'and', 'you', 'should', 'find', 'out', 'the', 'way', 'that', 'gives', 'your', 'code', 'the', 'best', 'performance.', 'Improving', 'your', 'code', 'efficiency', 'requires', 'fundamental', 'knowledge', 'about', 'how', 'the', 'programming', 'language', 'is', 'executed', 'on', 'machines', 'and', \"it's\", 'lifelong', 'learning', 'because', 'new', 'technologies', 'and', 'practices', 'are', 'constantly', 'being', 'improved/invented.', 'In', 'this', 'course', 'you', \"won't\", 'need', 'to', 'worry', 'too', 'much', 'about', 'your', 'code', 'efficiency', 'but']\n"
     ]
    }
   ],
   "source": [
    "hugetextlist = hugetext.split()\n",
    "print(hugetextlist)"
   ]
  },
  {
   "cell_type": "markdown",
   "metadata": {},
   "source": [
    "#### Let's imagine we want to print all together the previous list. First we try with a for loop"
   ]
  },
  {
   "cell_type": "code",
   "execution_count": 152,
   "metadata": {},
   "outputs": [
    {
     "name": "stdout",
     "output_type": "stream",
     "text": [
      "Codeefficiencyisanotherdimensionofyourcodethatyouwillbeincreasinglyconcernedaboutasyourrolebecomesmoresenior.Inadditiontomakingyourcodereadablebyhumansyourcodeshouldalsobeefficienttobeexecutedonmachines.Oftentimestherearemultiplewaystoachievethesamegoalandyoushouldfindoutthewaythatgivesyourcodethebestperformance.Improvingyourcodeefficiencyrequiresfundamentalknowledgeabouthowtheprogramminglanguageisexecutedonmachinesandit'slifelonglearningbecausenewtechnologiesandpracticesareconstantlybeingimproved/invented.Inthiscourseyouwon'tneedtoworrytoomuchaboutyourcodeefficiencybut\n",
      "--- 0.00036787986755371094 seconds ---\n"
     ]
    }
   ],
   "source": [
    "start_time = time.time()\n",
    "a = \"\"\n",
    "for i in hugetextlist:\n",
    "    a += i\n",
    "print(a)\n",
    "print(\"--- %s seconds ---\" % (time.time() - start_time))"
   ]
  },
  {
   "cell_type": "markdown",
   "metadata": {},
   "source": [
    "#### Now we try with the join function"
   ]
  },
  {
   "cell_type": "code",
   "execution_count": 153,
   "metadata": {},
   "outputs": [
    {
     "name": "stdout",
     "output_type": "stream",
     "text": [
      "Codeefficiencyisanotherdimensionofyourcodethatyouwillbeincreasinglyconcernedaboutasyourrolebecomesmoresenior.Inadditiontomakingyourcodereadablebyhumansyourcodeshouldalsobeefficienttobeexecutedonmachines.Oftentimestherearemultiplewaystoachievethesamegoalandyoushouldfindoutthewaythatgivesyourcodethebestperformance.Improvingyourcodeefficiencyrequiresfundamentalknowledgeabouthowtheprogramminglanguageisexecutedonmachinesandit'slifelonglearningbecausenewtechnologiesandpracticesareconstantlybeingimproved/invented.Inthiscourseyouwon'tneedtoworrytoomuchaboutyourcodeefficiencybut\n",
      "--- 0.00030684471130371094 seconds ---\n"
     ]
    }
   ],
   "source": [
    "start_time = time.time()\n",
    "secondexampleoutput = \"\".join(hugetextlist)\n",
    "print(secondexampleoutput)\n",
    "print(\"--- %s seconds ---\" % (time.time() - start_time))"
   ]
  },
  {
   "cell_type": "markdown",
   "metadata": {},
   "source": [
    "### As you can see, for loops tend to be bad in terms of performance"
   ]
  },
  {
   "cell_type": "code",
   "execution_count": 156,
   "metadata": {},
   "outputs": [
    {
     "name": "stdout",
     "output_type": "stream",
     "text": [
      "<html>Code efficiency is another dimension of your code that you will be increasingly concerned about as your role becomes more senior. In addition to making your code readable by humans your code should also be efficient to be executed on machines. Often times there are multiple ways to achieve the same goal and you should find out the way that gives your code the best performance. Improving your code efficiency requires fundamental knowledge about how the programming language is executed on machines and it's lifelong learning because new technologies and practices are constantly being improved/invented. In this course you won't need to worry too much about your code efficiency butCode efficiency is another dimension of your code that you will be increasingly concerned about as your role becomes more senior. In addition to making your code readable by humans your code should also be efficient to be executed on machines. Often times there are multiple ways to achieve the same goal and you should find out the way that gives your code the best performance. Improving your code efficiency requires fundamental knowledge about how the programming language is executed on machines and it's lifelong learning because new technologies and practices are constantly being improved/invented. In this course you won't need to worry too much about your code efficiency butCode efficiency is another dimension of your code that you will be increasingly concerned about as your role becomes more senior. In addition to making your code readable by humans your code should also be efficient to be executed on machines. Often times there are multiple ways to achieve the same goal and you should find out the way that gives your code the best performance. Improving your code efficiency requires fundamental knowledge about how the programming language is executed on machines and it's lifelong learning because new technologies and practices are constantly being improved/invented. In this course you won't need to worry too much about your code efficiency butCode efficiency is another dimension of your code that you will be increasingly concerned about as your role becomes more senior. In addition to making your code readable by humans your code should also be efficient to be executed on machines. Often times there are multiple ways to achieve the same goal and you should find out the way that gives your code the best performance. Improving your code efficiency requires fundamental knowledge about how the programming language is executed on machines and it's lifelong learning because new technologies and practices are constantly being improved/invented. In this course you won't need to worry too much about your code efficiency but</html>\n",
      "--- 0.00045990943908691406 seconds ---\n"
     ]
    }
   ],
   "source": [
    "start_time = time.time()\n",
    "out = \"<html>\" + hugetext + hugetext + hugetext + hugetext + \"</html>\"\n",
    "print(out)\n",
    "print(\"--- %s seconds ---\" % (time.time() - start_time))"
   ]
  },
  {
   "cell_type": "code",
   "execution_count": 157,
   "metadata": {},
   "outputs": [
    {
     "name": "stdout",
     "output_type": "stream",
     "text": [
      "<html>Code efficiency is another dimension of your code that you will be increasingly concerned about as your role becomes more senior. In addition to making your code readable by humans your code should also be efficient to be executed on machines. Often times there are multiple ways to achieve the same goal and you should find out the way that gives your code the best performance. Improving your code efficiency requires fundamental knowledge about how the programming language is executed on machines and it's lifelong learning because new technologies and practices are constantly being improved/invented. In this course you won't need to worry too much about your code efficiency butCode efficiency is another dimension of your code that you will be increasingly concerned about as your role becomes more senior. In addition to making your code readable by humans your code should also be efficient to be executed on machines. Often times there are multiple ways to achieve the same goal and you should find out the way that gives your code the best performance. Improving your code efficiency requires fundamental knowledge about how the programming language is executed on machines and it's lifelong learning because new technologies and practices are constantly being improved/invented. In this course you won't need to worry too much about your code efficiency butCode efficiency is another dimension of your code that you will be increasingly concerned about as your role becomes more senior. In addition to making your code readable by humans your code should also be efficient to be executed on machines. Often times there are multiple ways to achieve the same goal and you should find out the way that gives your code the best performance. Improving your code efficiency requires fundamental knowledge about how the programming language is executed on machines and it's lifelong learning because new technologies and practices are constantly being improved/invented. In this course you won't need to worry too much about your code efficiency butCode efficiency is another dimension of your code that you will be increasingly concerned about as your role becomes more senior. In addition to making your code readable by humans your code should also be efficient to be executed on machines. Often times there are multiple ways to achieve the same goal and you should find out the way that gives your code the best performance. Improving your code efficiency requires fundamental knowledge about how the programming language is executed on machines and it's lifelong learning because new technologies and practices are constantly being improved/invented. In this course you won't need to worry too much about your code efficiency but</html>\n",
      "--- 0.0024099349975585938 seconds ---\n"
     ]
    }
   ],
   "source": [
    "start_time = time.time()\n",
    "out = \"<html>%s%s%s%s</html>\" % (hugetext, hugetext, hugetext, hugetext)\n",
    "print(out)\n",
    "print(\"--- %s seconds ---\" % (time.time() - start_time))"
   ]
  },
  {
   "cell_type": "markdown",
   "metadata": {},
   "source": [
    "### In other cases it may differ; although the rule is this is expected to be faster it does not happen always"
   ]
  },
  {
   "cell_type": "markdown",
   "metadata": {},
   "source": [
    "#### Another for loop again for capping a list"
   ]
  },
  {
   "cell_type": "code",
   "execution_count": 160,
   "metadata": {},
   "outputs": [
    {
     "name": "stdout",
     "output_type": "stream",
     "text": [
      "['CODE', 'EFFICIENCY', 'IS', 'ANOTHER', 'DIMENSION', 'OF', 'YOUR', 'CODE', 'THAT', 'YOU', 'WILL', 'BE', 'INCREASINGLY', 'CONCERNED', 'ABOUT', 'AS', 'YOUR', 'ROLE', 'BECOMES', 'MORE', 'SENIOR.', 'IN', 'ADDITION', 'TO', 'MAKING', 'YOUR', 'CODE', 'READABLE', 'BY', 'HUMANS', 'YOUR', 'CODE', 'SHOULD', 'ALSO', 'BE', 'EFFICIENT', 'TO', 'BE', 'EXECUTED', 'ON', 'MACHINES.', 'OFTEN', 'TIMES', 'THERE', 'ARE', 'MULTIPLE', 'WAYS', 'TO', 'ACHIEVE', 'THE', 'SAME', 'GOAL', 'AND', 'YOU', 'SHOULD', 'FIND', 'OUT', 'THE', 'WAY', 'THAT', 'GIVES', 'YOUR', 'CODE', 'THE', 'BEST', 'PERFORMANCE.', 'IMPROVING', 'YOUR', 'CODE', 'EFFICIENCY', 'REQUIRES', 'FUNDAMENTAL', 'KNOWLEDGE', 'ABOUT', 'HOW', 'THE', 'PROGRAMMING', 'LANGUAGE', 'IS', 'EXECUTED', 'ON', 'MACHINES', 'AND', \"IT'S\", 'LIFELONG', 'LEARNING', 'BECAUSE', 'NEW', 'TECHNOLOGIES', 'AND', 'PRACTICES', 'ARE', 'CONSTANTLY', 'BEING', 'IMPROVED/INVENTED.', 'IN', 'THIS', 'COURSE', 'YOU', \"WON'T\", 'NEED', 'TO', 'WORRY', 'TOO', 'MUCH', 'ABOUT', 'YOUR', 'CODE', 'EFFICIENCY', 'BUT']\n",
      "--- 0.0014836788177490234 seconds ---\n"
     ]
    }
   ],
   "source": [
    "start_time = time.time()\n",
    "newlist = []\n",
    "for word in hugetextlist:\n",
    "    newlist.append(word.upper())\n",
    "print(newlist)\n",
    "print(\"--- %s seconds ---\" % (time.time() - start_time))"
   ]
  },
  {
   "cell_type": "markdown",
   "metadata": {},
   "source": [
    "#### We try the same with map"
   ]
  },
  {
   "cell_type": "code",
   "execution_count": 169,
   "metadata": {},
   "outputs": [
    {
     "name": "stdout",
     "output_type": "stream",
     "text": [
      "['CODE', 'EFFICIENCY', 'IS', 'ANOTHER', 'DIMENSION', 'OF', 'YOUR', 'CODE', 'THAT', 'YOU', 'WILL', 'BE', 'INCREASINGLY', 'CONCERNED', 'ABOUT', 'AS', 'YOUR', 'ROLE', 'BECOMES', 'MORE', 'SENIOR.', 'IN', 'ADDITION', 'TO', 'MAKING', 'YOUR', 'CODE', 'READABLE', 'BY', 'HUMANS', 'YOUR', 'CODE', 'SHOULD', 'ALSO', 'BE', 'EFFICIENT', 'TO', 'BE', 'EXECUTED', 'ON', 'MACHINES.', 'OFTEN', 'TIMES', 'THERE', 'ARE', 'MULTIPLE', 'WAYS', 'TO', 'ACHIEVE', 'THE', 'SAME', 'GOAL', 'AND', 'YOU', 'SHOULD', 'FIND', 'OUT', 'THE', 'WAY', 'THAT', 'GIVES', 'YOUR', 'CODE', 'THE', 'BEST', 'PERFORMANCE.', 'IMPROVING', 'YOUR', 'CODE', 'EFFICIENCY', 'REQUIRES', 'FUNDAMENTAL', 'KNOWLEDGE', 'ABOUT', 'HOW', 'THE', 'PROGRAMMING', 'LANGUAGE', 'IS', 'EXECUTED', 'ON', 'MACHINES', 'AND', \"IT'S\", 'LIFELONG', 'LEARNING', 'BECAUSE', 'NEW', 'TECHNOLOGIES', 'AND', 'PRACTICES', 'ARE', 'CONSTANTLY', 'BEING', 'IMPROVED/INVENTED.', 'IN', 'THIS', 'COURSE', 'YOU', \"WON'T\", 'NEED', 'TO', 'WORRY', 'TOO', 'MUCH', 'ABOUT', 'YOUR', 'CODE', 'EFFICIENCY', 'BUT']\n",
      "--- 0.00030517578125 seconds ---\n"
     ]
    }
   ],
   "source": [
    "start_time = time.time()\n",
    "print(list(map(str.upper, hugetextlist)))\n",
    "print(\"--- %s seconds ---\" % (time.time() - start_time))"
   ]
  },
  {
   "cell_type": "markdown",
   "metadata": {},
   "source": [
    "#### And list comprehension"
   ]
  },
  {
   "cell_type": "code",
   "execution_count": 170,
   "metadata": {},
   "outputs": [
    {
     "name": "stdout",
     "output_type": "stream",
     "text": [
      "['CODE', 'EFFICIENCY', 'IS', 'ANOTHER', 'DIMENSION', 'OF', 'YOUR', 'CODE', 'THAT', 'YOU', 'WILL', 'BE', 'INCREASINGLY', 'CONCERNED', 'ABOUT', 'AS', 'YOUR', 'ROLE', 'BECOMES', 'MORE', 'SENIOR.', 'IN', 'ADDITION', 'TO', 'MAKING', 'YOUR', 'CODE', 'READABLE', 'BY', 'HUMANS', 'YOUR', 'CODE', 'SHOULD', 'ALSO', 'BE', 'EFFICIENT', 'TO', 'BE', 'EXECUTED', 'ON', 'MACHINES.', 'OFTEN', 'TIMES', 'THERE', 'ARE', 'MULTIPLE', 'WAYS', 'TO', 'ACHIEVE', 'THE', 'SAME', 'GOAL', 'AND', 'YOU', 'SHOULD', 'FIND', 'OUT', 'THE', 'WAY', 'THAT', 'GIVES', 'YOUR', 'CODE', 'THE', 'BEST', 'PERFORMANCE.', 'IMPROVING', 'YOUR', 'CODE', 'EFFICIENCY', 'REQUIRES', 'FUNDAMENTAL', 'KNOWLEDGE', 'ABOUT', 'HOW', 'THE', 'PROGRAMMING', 'LANGUAGE', 'IS', 'EXECUTED', 'ON', 'MACHINES', 'AND', \"IT'S\", 'LIFELONG', 'LEARNING', 'BECAUSE', 'NEW', 'TECHNOLOGIES', 'AND', 'PRACTICES', 'ARE', 'CONSTANTLY', 'BEING', 'IMPROVED/INVENTED.', 'IN', 'THIS', 'COURSE', 'YOU', \"WON'T\", 'NEED', 'TO', 'WORRY', 'TOO', 'MUCH', 'ABOUT', 'YOUR', 'CODE', 'EFFICIENCY', 'BUT']\n",
      "--- 0.006055116653442383 seconds ---\n"
     ]
    }
   ],
   "source": [
    "start_time = time.time()\n",
    "print([s.upper() for s in hugetextlist])\n",
    "print(\"--- %s seconds ---\" % (time.time() - start_time))"
   ]
  },
  {
   "cell_type": "markdown",
   "metadata": {},
   "source": [
    "### If we have to do a for loop, it's better to reduce the number of iterations"
   ]
  },
  {
   "cell_type": "code",
   "execution_count": 171,
   "metadata": {},
   "outputs": [
    {
     "name": "stdout",
     "output_type": "stream",
     "text": [
      "[(1, 0), (2, 0), (2, 1), (3, 0), (3, 1), (3, 2), (4, 0), (4, 1), (4, 2), (4, 3), (5, 0), (5, 1), (5, 2), (5, 3), (5, 4), (6, 0), (6, 1), (6, 2), (6, 3), (6, 4), (6, 5), (7, 0), (7, 1), (7, 2), (7, 3), (7, 4), (7, 5), (7, 6), (8, 0), (8, 1), (8, 2), (8, 3), (8, 4), (8, 5), (8, 6), (8, 7), (9, 0), (9, 1), (9, 2), (9, 3), (9, 4), (9, 5), (9, 6), (9, 7), (9, 8)]\n",
      "--- 0.0005259513854980469 seconds ---\n"
     ]
    }
   ],
   "source": [
    "start_time = time.time()\n",
    "results = []\n",
    "for i in range(10):\n",
    "    for j in range(i):\n",
    "        results.append((i, j))\n",
    "print(results)\n",
    "print(\"--- %s seconds ---\" % (time.time() - start_time))"
   ]
  },
  {
   "cell_type": "code",
   "execution_count": 172,
   "metadata": {},
   "outputs": [
    {
     "name": "stdout",
     "output_type": "stream",
     "text": [
      "[(1, 0), (2, 0), (2, 1), (3, 0), (3, 1), (3, 2), (4, 0), (4, 1), (4, 2), (4, 3), (5, 0), (5, 1), (5, 2), (5, 3), (5, 4), (6, 0), (6, 1), (6, 2), (6, 3), (6, 4), (6, 5), (7, 0), (7, 1), (7, 2), (7, 3), (7, 4), (7, 5), (7, 6), (8, 0), (8, 1), (8, 2), (8, 3), (8, 4), (8, 5), (8, 6), (8, 7), (9, 0), (9, 1), (9, 2), (9, 3), (9, 4), (9, 5), (9, 6), (9, 7), (9, 8)]\n",
      "--- 0.0016338825225830078 seconds ---\n"
     ]
    }
   ],
   "source": [
    "start_time = time.time()\n",
    "results = [(i, j)\n",
    "           for i in range(10)\n",
    "           for j in range(i)]\n",
    "print(results)\n",
    "print(\"--- %s seconds ---\" % (time.time() - start_time))"
   ]
  },
  {
   "cell_type": "markdown",
   "metadata": {},
   "source": [
    "## SUMMARY\n",
    "In this lesson we introduced the basic concepts and principles of simple, clean code. We also provided concrete tips about how to write efficient Python codes. We hope this lesson is your starting point to develop the awareness and habit of writing simple, clean, and efficient code, which will be increasingly important as your career deepens as a data analyst, data scientist, or data engineer."
   ]
  },
  {
   "cell_type": "code",
   "execution_count": 173,
   "metadata": {},
   "outputs": [
    {
     "name": "stderr",
     "output_type": "stream",
     "text": [
      "Processing Dataframe: 100%|██████████| 1000/1000 [00:09<00:00, 107.56it/s]"
     ]
    },
    {
     "name": "stdout",
     "output_type": "stream",
     "text": [
      "--- 12.24635124206543 seconds ---\n"
     ]
    },
    {
     "name": "stderr",
     "output_type": "stream",
     "text": [
      "\n"
     ]
    }
   ],
   "source": [
    "from tqdm import tqdm\n",
    "import pandas as pd\n",
    "import numpy as np\n",
    "start_time = time.time()\n",
    "df = pd.DataFrame(np.random.randint(0, 100, (100000, 1000)))\n",
    "\n",
    "# Register `pandas.progress_apply` with `tqdm`\n",
    "tqdm.pandas(desc='Processing Dataframe')\n",
    "\n",
    "# Add 3 to each value then cube for entire dataframe\n",
    "df.progress_apply(lambda x: (x+3)**3)\n",
    "print(\"--- %s seconds ---\" % (time.time() - start_time))"
   ]
  },
  {
   "cell_type": "code",
   "execution_count": null,
   "metadata": {},
   "outputs": [],
   "source": []
  }
 ],
 "metadata": {
  "kernelspec": {
   "display_name": "Python 3",
   "language": "python",
   "name": "python3"
  },
  "language_info": {
   "codemirror_mode": {
    "name": "ipython",
    "version": 3
   },
   "file_extension": ".py",
   "mimetype": "text/x-python",
   "name": "python",
   "nbconvert_exporter": "python",
   "pygments_lexer": "ipython3",
   "version": "3.7.4"
  }
 },
 "nbformat": 4,
 "nbformat_minor": 4
}
